{
  "nbformat": 4,
  "nbformat_minor": 0,
  "metadata": {
    "colab": {
      "name": "LegoClassifier.ipynb",
      "provenance": []
    },
    "kernelspec": {
      "name": "python3",
      "display_name": "Python 3"
    },
    "accelerator": "GPU"
  },
  "cells": [
    {
      "cell_type": "code",
      "metadata": {
        "id": "_4LszD5kOgf1",
        "colab_type": "code",
        "colab": {
          "base_uri": "https://localhost:8080/",
          "height": 34
        },
        "outputId": "682a6c33-9f20-4b5a-df2f-0a7c2feeda5f"
      },
      "source": [
        "from keras.layers import Input, Lambda, Dense, Flatten\n",
        "from keras.models import Model\n",
        "from keras.applications.vgg16 import VGG16\n",
        "from keras.applications.vgg16 import preprocess_input\n",
        "from keras.preprocessing import image\n",
        "from keras.preprocessing.image import ImageDataGenerator\n",
        "from keras.models import Sequential\n",
        "import numpy as np\n",
        "from glob import glob"
      ],
      "execution_count": 2,
      "outputs": [
        {
          "output_type": "stream",
          "text": [
            "Using TensorFlow backend.\n"
          ],
          "name": "stderr"
        }
      ]
    },
    {
      "cell_type": "code",
      "metadata": {
        "id": "FSULvbcNOxwv",
        "colab_type": "code",
        "colab": {}
      },
      "source": [
        "# Code to read csv file into colaboratory:\n",
        "!pip install -U -q PyDrive\n",
        "from pydrive.auth import GoogleAuth\n",
        "from pydrive.drive import GoogleDrive\n",
        "from google.colab import auth\n",
        "from oauth2client.client import GoogleCredentials\n"
      ],
      "execution_count": null,
      "outputs": []
    },
    {
      "cell_type": "code",
      "metadata": {
        "id": "w_1HlHdwIjFo",
        "colab_type": "code",
        "colab": {}
      },
      "source": [
        "auth.authenticate_user()\n",
        "gauth = GoogleAuth()\n",
        "gauth.credentials = GoogleCredentials.get_application_default()\n",
        "drive = GoogleDrive(gauth)"
      ],
      "execution_count": null,
      "outputs": []
    },
    {
      "cell_type": "code",
      "metadata": {
        "id": "2PF00HnpI6wf",
        "colab_type": "code",
        "colab": {}
      },
      "source": [
        "import pandas as pd\n",
        "import shutil,os\n",
        "downloaded = drive.CreateFile({'id':\"1B8Aodo2QlZLtwnNp1GxcVuC2bg2Egjsn\"})\n",
        "downloaded.GetContentFile('Train.csv')\n",
        "train= pd.read_csv('Train.csv') \n",
        "# SORTING BY CATEGORY\n",
        "train.sort_values(by=[\"category\"],inplace=True)\n",
        "# INDEX RESET\n",
        "train.reset_index(drop=True, inplace=True)\n",
        "# DATAFRAME CONTAINING CATEGORY AND NAMES\n",
        "categ=train['category']\n",
        "name=train[\"name\"]\n",
        "ori_parent=\"/content/drive/My Drive/Colab Notebooks/lego/train\"\n",
        "parent=\"/content/drive/My Drive/Colab Notebooks/lego/\"\n",
        "# BELOW CODE USED TO MAKE 16 DIFFERENT FOLDERS AND PLACE IMAGES ACCORDINGLY\n",
        "# for i in range(4466):\n",
        "  \n",
        "#   ori_path=ori_parent+\"/\"+str(name[i])\n",
        "#   path=parent+str(categ[i])+\"/\"\n",
        "#   shutil.copy(ori_path,path)"
      ],
      "execution_count": null,
      "outputs": []
    },
    {
      "cell_type": "code",
      "metadata": {
        "id": "IuJmv5RCj-9R",
        "colab_type": "code",
        "colab": {
          "base_uri": "https://localhost:8080/",
          "height": 122
        },
        "outputId": "40142d2b-6698-4f82-c3fe-77a709dd8ed6"
      },
      "source": [
        "from google.colab import drive\n",
        "drive.mount(\"/content/drive/\")"
      ],
      "execution_count": null,
      "outputs": [
        {
          "output_type": "stream",
          "text": [
            "Go to this URL in a browser: https://accounts.google.com/o/oauth2/auth?client_id=947318989803-6bn6qk8qdgf4n4g3pfee6491hc0brc4i.apps.googleusercontent.com&redirect_uri=urn%3aietf%3awg%3aoauth%3a2.0%3aoob&response_type=code&scope=email%20https%3a%2f%2fwww.googleapis.com%2fauth%2fdocs.test%20https%3a%2f%2fwww.googleapis.com%2fauth%2fdrive%20https%3a%2f%2fwww.googleapis.com%2fauth%2fdrive.photos.readonly%20https%3a%2f%2fwww.googleapis.com%2fauth%2fpeopleapi.readonly\n",
            "\n",
            "Enter your authorization code:\n",
            "··········\n",
            "Mounted at /content/drive/\n"
          ],
          "name": "stdout"
        }
      ]
    },
    {
      "cell_type": "code",
      "metadata": {
        "id": "w7zSmYGrmL9s",
        "colab_type": "code",
        "colab": {
          "base_uri": "https://localhost:8080/",
          "height": 921
        },
        "outputId": "0efe75b7-140a-4446-8cde-4da674badbc4"
      },
      "source": [
        "train_path=\"/content/drive/My Drive/Colab Notebooks/lego\"\n",
        "IMAGE_SIZE = [224, 224]\n",
        "vgg = VGG16(input_shape=IMAGE_SIZE + [3], weights='imagenet', include_top=False)\n",
        "# DON'T TRAIN THE LAYERS SO AS TO PRESERVE PRETRAINED VALUES\n",
        "for layer in vgg.layers:\n",
        "  layer.trainable = False\n",
        "x = Flatten()(vgg.output)\n",
        "# CUSTOMISED PREDICTION LAYER\n",
        "prediction = Dense(16, activation='softmax')(x)\n",
        "model = Model(inputs=vgg.input, outputs=prediction)\n",
        "model.summary()"
      ],
      "execution_count": null,
      "outputs": [
        {
          "output_type": "stream",
          "text": [
            "Downloading data from https://github.com/fchollet/deep-learning-models/releases/download/v0.1/vgg16_weights_tf_dim_ordering_tf_kernels_notop.h5\n",
            "58892288/58889256 [==============================] - 1s 0us/step\n",
            "Model: \"model_1\"\n",
            "_________________________________________________________________\n",
            "Layer (type)                 Output Shape              Param #   \n",
            "=================================================================\n",
            "input_1 (InputLayer)         (None, 224, 224, 3)       0         \n",
            "_________________________________________________________________\n",
            "block1_conv1 (Conv2D)        (None, 224, 224, 64)      1792      \n",
            "_________________________________________________________________\n",
            "block1_conv2 (Conv2D)        (None, 224, 224, 64)      36928     \n",
            "_________________________________________________________________\n",
            "block1_pool (MaxPooling2D)   (None, 112, 112, 64)      0         \n",
            "_________________________________________________________________\n",
            "block2_conv1 (Conv2D)        (None, 112, 112, 128)     73856     \n",
            "_________________________________________________________________\n",
            "block2_conv2 (Conv2D)        (None, 112, 112, 128)     147584    \n",
            "_________________________________________________________________\n",
            "block2_pool (MaxPooling2D)   (None, 56, 56, 128)       0         \n",
            "_________________________________________________________________\n",
            "block3_conv1 (Conv2D)        (None, 56, 56, 256)       295168    \n",
            "_________________________________________________________________\n",
            "block3_conv2 (Conv2D)        (None, 56, 56, 256)       590080    \n",
            "_________________________________________________________________\n",
            "block3_conv3 (Conv2D)        (None, 56, 56, 256)       590080    \n",
            "_________________________________________________________________\n",
            "block3_pool (MaxPooling2D)   (None, 28, 28, 256)       0         \n",
            "_________________________________________________________________\n",
            "block4_conv1 (Conv2D)        (None, 28, 28, 512)       1180160   \n",
            "_________________________________________________________________\n",
            "block4_conv2 (Conv2D)        (None, 28, 28, 512)       2359808   \n",
            "_________________________________________________________________\n",
            "block4_conv3 (Conv2D)        (None, 28, 28, 512)       2359808   \n",
            "_________________________________________________________________\n",
            "block4_pool (MaxPooling2D)   (None, 14, 14, 512)       0         \n",
            "_________________________________________________________________\n",
            "block5_conv1 (Conv2D)        (None, 14, 14, 512)       2359808   \n",
            "_________________________________________________________________\n",
            "block5_conv2 (Conv2D)        (None, 14, 14, 512)       2359808   \n",
            "_________________________________________________________________\n",
            "block5_conv3 (Conv2D)        (None, 14, 14, 512)       2359808   \n",
            "_________________________________________________________________\n",
            "block5_pool (MaxPooling2D)   (None, 7, 7, 512)         0         \n",
            "_________________________________________________________________\n",
            "flatten_1 (Flatten)          (None, 25088)             0         \n",
            "_________________________________________________________________\n",
            "dense_1 (Dense)              (None, 16)                401424    \n",
            "=================================================================\n",
            "Total params: 15,116,112\n",
            "Trainable params: 401,424\n",
            "Non-trainable params: 14,714,688\n",
            "_________________________________________________________________\n"
          ],
          "name": "stdout"
        }
      ]
    },
    {
      "cell_type": "code",
      "metadata": {
        "id": "btdFFpDi1Q5D",
        "colab_type": "code",
        "colab": {
          "base_uri": "https://localhost:8080/",
          "height": 428
        },
        "outputId": "e9a7deea-59a2-4c34-f761-5e9c1e82f98b"
      },
      "source": [
        "model.compile(\n",
        "  loss='categorical_crossentropy',\n",
        "  optimizer='adam',\n",
        "  metrics=['accuracy']\n",
        ")\n",
        "from keras.preprocessing.image import ImageDataGenerator\n",
        "train_datagen = ImageDataGenerator(rescale = 1./255,\n",
        "                                   shear_range = 0.2,\n",
        "                                   zoom_range = 0.2,\n",
        "                                   horizontal_flip = True,\n",
        "                                   fill_mode=\"nearest\")\n",
        "\n",
        "\n",
        "training_set = train_datagen.flow_from_directory(train_path,\n",
        "                                                 target_size = (224, 224),\n",
        "                                                 batch_size = 32,\n",
        "                                                 class_mode = 'categorical')\n",
        "\n",
        "\n",
        "r = model.fit_generator(\n",
        "  training_set,\n",
        "  \n",
        "  epochs=10,\n",
        "  steps_per_epoch=140,\n",
        "  )\n",
        "\n"
      ],
      "execution_count": 13,
      "outputs": [
        {
          "output_type": "stream",
          "text": [
            "Found 4465 images belonging to 16 classes.\n",
            "Epoch 1/10\n",
            "102/140 [====================>.........] - ETA: 5:36 - loss: 0.8845 - accuracy: 0.6936"
          ],
          "name": "stdout"
        },
        {
          "output_type": "stream",
          "text": [
            "/usr/local/lib/python3.6/dist-packages/keras/utils/data_utils.py:616: UserWarning: The input 70 could not be retrieved. It could be because a worker has died.\n",
            "  UserWarning)\n"
          ],
          "name": "stderr"
        },
        {
          "output_type": "stream",
          "text": [
            "140/140 [==============================] - 1302s 9s/step - loss: 0.7806 - accuracy: 0.7265\n",
            "Epoch 2/10\n",
            "140/140 [==============================] - 75s 533ms/step - loss: 0.4237 - accuracy: 0.8533\n",
            "Epoch 3/10\n",
            "140/140 [==============================] - 74s 530ms/step - loss: 0.2734 - accuracy: 0.9032\n",
            "Epoch 4/10\n",
            "140/140 [==============================] - 73s 522ms/step - loss: 0.2572 - accuracy: 0.9075\n",
            "Epoch 5/10\n",
            "140/140 [==============================] - 74s 527ms/step - loss: 0.2652 - accuracy: 0.9095\n",
            "Epoch 6/10\n",
            "140/140 [==============================] - 74s 525ms/step - loss: 0.1831 - accuracy: 0.9364\n",
            "Epoch 7/10\n",
            "140/140 [==============================] - 74s 526ms/step - loss: 0.1840 - accuracy: 0.9380\n",
            "Epoch 8/10\n",
            "140/140 [==============================] - 74s 531ms/step - loss: 0.1504 - accuracy: 0.9505\n",
            "Epoch 9/10\n",
            "140/140 [==============================] - 75s 535ms/step - loss: 0.1331 - accuracy: 0.9574\n",
            "Epoch 10/10\n",
            "140/140 [==============================] - 73s 523ms/step - loss: 0.1310 - accuracy: 0.9532\n"
          ],
          "name": "stdout"
        }
      ]
    },
    {
      "cell_type": "code",
      "metadata": {
        "id": "S7RgpCb6-n7d",
        "colab_type": "code",
        "colab": {}
      },
      "source": [
        "# os.mkdir(\"/content/drive/My Drive/Colab Notebooks/lego/pred_data\")\n",
        "# files=os.listdir(\"/content/drive/My Drive/question_1_dataset/test/test\")\n",
        "# for file in files:\n",
        "#    path=\"/content/drive/My Drive/question_1_dataset/test/test/\"+str(file)\n",
        "#    new_path=\"/content/drive/My Drive/Colab Notebooks/lego/pred_data/\"\n",
        "#    shutil.copy(path,new_path)"
      ],
      "execution_count": null,
      "outputs": []
    },
    {
      "cell_type": "code",
      "metadata": {
        "id": "-KK0q9Avg9HB",
        "colab_type": "code",
        "colab": {
          "base_uri": "https://localhost:8080/",
          "height": 231
        },
        "outputId": "24c833a9-bd6d-42b8-c3dc-f5ccc3282194"
      },
      "source": [
        "# NOW TO PREDICT LABELS FROM THE GIVEN TEST DATA SET\n",
        "import numpy as np\n",
        "from google.colab import files\n",
        "from keras.preprocessing import image\n",
        "\n",
        "files=os.listdir(\"/content/drive/My Drive/Colab Notebooks/pred_data\")\n",
        "i=0\n",
        "for file in files:\n",
        " \n",
        "  # predicting images\n",
        "  print(file)\n",
        "  path = \"/content/drive/My Drive/Colab Notebooks/pred_data/\"+str(file)\n",
        "  img = image.load_img(path, target_size=(224, 224))\n",
        "  x = image.img_to_array(img)\n",
        "  x = np.expand_dims(x, axis=0)\n",
        "  images = np.vstack([x])\n",
        "  classes = model.predict(images)\n",
        "  cl=np.argmax(classes)\n",
        "  print(cl+1)\n",
        "  i=i+1\n",
        "  "
      ],
      "execution_count": 3,
      "outputs": [
        {
          "output_type": "error",
          "ename": "NameError",
          "evalue": "ignored",
          "traceback": [
            "\u001b[0;31m---------------------------------------------------------------------------\u001b[0m",
            "\u001b[0;31mNameError\u001b[0m                                 Traceback (most recent call last)",
            "\u001b[0;32m<ipython-input-3-fac4fecefdb4>\u001b[0m in \u001b[0;36m<module>\u001b[0;34m()\u001b[0m\n\u001b[1;32m      3\u001b[0m \u001b[0;32mfrom\u001b[0m \u001b[0mkeras\u001b[0m\u001b[0;34m.\u001b[0m\u001b[0mpreprocessing\u001b[0m \u001b[0;32mimport\u001b[0m \u001b[0mimage\u001b[0m\u001b[0;34m\u001b[0m\u001b[0;34m\u001b[0m\u001b[0m\n\u001b[1;32m      4\u001b[0m \u001b[0;34m\u001b[0m\u001b[0m\n\u001b[0;32m----> 5\u001b[0;31m \u001b[0mfiles\u001b[0m\u001b[0;34m=\u001b[0m\u001b[0mos\u001b[0m\u001b[0;34m.\u001b[0m\u001b[0mlistdir\u001b[0m\u001b[0;34m(\u001b[0m\u001b[0;34m\"/content/drive/My Drive/Colab Notebooks/pred_data\"\u001b[0m\u001b[0;34m)\u001b[0m\u001b[0;34m\u001b[0m\u001b[0;34m\u001b[0m\u001b[0m\n\u001b[0m\u001b[1;32m      6\u001b[0m \u001b[0mi\u001b[0m\u001b[0;34m=\u001b[0m\u001b[0;36m0\u001b[0m\u001b[0;34m\u001b[0m\u001b[0;34m\u001b[0m\u001b[0m\n\u001b[1;32m      7\u001b[0m \u001b[0;32mfor\u001b[0m \u001b[0mfile\u001b[0m \u001b[0;32min\u001b[0m \u001b[0mfiles\u001b[0m\u001b[0;34m:\u001b[0m\u001b[0;34m\u001b[0m\u001b[0;34m\u001b[0m\u001b[0m\n",
            "\u001b[0;31mNameError\u001b[0m: name 'os' is not defined"
          ]
        }
      ]
    }
  ]
}